{
  "nbformat": 4,
  "nbformat_minor": 0,
  "metadata": {
    "colab": {
      "name": "002C.ipynb",
      "provenance": [],
      "authorship_tag": "ABX9TyMKAXSjQVF7bp9YoabrCO9x"
    },
    "kernelspec": {
      "name": "python3",
      "display_name": "Python 3"
    },
    "language_info": {
      "name": "python"
    }
  },
  "cells": [
    {
      "cell_type": "markdown",
      "metadata": {
        "id": "z7w9EUwlG32O"
      },
      "source": [
        "# Finding the Highest Common Factor of Two Positive Integers using the Euclidean Algorithm\n",
        "\n",
        "The following algorithm is able to find the $\\text{hcf}(m, n)$ of two positive integers $m$ and $n$, using the Euclidean Algorithm.  In addition, it is able to print out each step to the screen."
      ]
    },
    {
      "cell_type": "code",
      "metadata": {
        "colab": {
          "base_uri": "https://localhost:8080/"
        },
        "id": "ut-k6-DDG1fh",
        "outputId": "991dcb3c-1bad-4f6d-c202-2b46d6e56036"
      },
      "source": [
        "def hcf(n, q):\n",
        "  dividend = n\n",
        "  divisor = q\n",
        "  quotient = dividend//divisor\n",
        "  remainder = dividend%divisor\n",
        "  while remainder > 0:\n",
        "    output = print(f\"{dividend} = {divisor} x {quotient} + {remainder}\")\n",
        "    dividend = divisor\n",
        "    divisor = remainder\n",
        "    quotient = dividend//divisor \n",
        "    remainder = dividend%divisor\n",
        "  else:\n",
        "    output = print(f\"{dividend} = {divisor} x {quotient} + {remainder} \\n\\nhcf({n},{q})= {divisor}\")\n",
        "  return output\n",
        "\n",
        "hcf(122,71)"
      ],
      "execution_count": 1,
      "outputs": [
        {
          "output_type": "stream",
          "name": "stdout",
          "text": [
            "122 = 71 x 1 + 51\n",
            "71 = 51 x 1 + 20\n",
            "51 = 20 x 2 + 11\n",
            "20 = 11 x 1 + 9\n",
            "11 = 9 x 1 + 2\n",
            "9 = 2 x 4 + 1\n",
            "2 = 1 x 2 + 0 \n",
            "\n",
            "hcf(122,71)= 1\n"
          ]
        }
      ]
    },
    {
      "cell_type": "code",
      "metadata": {
        "id": "IkvMpgh4HVZv"
      },
      "source": [
        ""
      ],
      "execution_count": null,
      "outputs": []
    }
  ]
}